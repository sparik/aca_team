{
 "cells": [
  {
   "cell_type": "code",
   "execution_count": 2,
   "metadata": {
    "collapsed": false
   },
   "outputs": [],
   "source": [
    "import numpy as np\n",
    "from random_forest import RandomForest\n",
    "import logistic_regression\n",
    "from sklearn.model_selection import train_test_split\n",
    "from sklearn.metrics import roc_auc_score"
   ]
  },
  {
   "cell_type": "code",
   "execution_count": 3,
   "metadata": {
    "collapsed": true
   },
   "outputs": [],
   "source": [
    "## load the dataset\n",
    "filename = 'SPECTF.dat'\n",
    "data = np.loadtxt(filename, delimiter=',')"
   ]
  },
  {
   "cell_type": "code",
   "execution_count": 4,
   "metadata": {
    "collapsed": false
   },
   "outputs": [
    {
     "name": "stdout",
     "output_type": "stream",
     "text": [
      "[[  1.  69.  66.  62.  75.  67.  71.  72.  76.  69.  70.  66.  69.  71.\n",
      "   80.  66.  64.  71.  77.  65.  61.  72.  67.  71.  69.  65.  57.  69.\n",
      "   65.  68.  65.  76.  73.  63.  64.  69.  70.  72.  72.  69.  68.  70.\n",
      "   73.  63.  59.]\n",
      " [  1.  74.  73.  72.  79.  66.  61.  76.  66.  65.  64.  78.  74.  62.\n",
      "   57.  48.  36.  62.  50.  67.  63.  79.  70.  61.  57.  52.  36.  69.\n",
      "   49.  55.  65.  74.  73.  58.  60.  64.  62.  73.  69.  62.  67.  60.\n",
      "   56.  53.  46.]\n",
      " [  0.  69.  64.  73.  72.  49.  70.  66.  71.  57.  56.  64.  62.  76.\n",
      "   74.  65.  62.  63.  58.  63.  63.  75.  76.  78.  80.  75.  77.  51.\n",
      "   62.  74.  68.  77.  77.  70.  68.  68.  64.  59.  58.  69.  66.  74.\n",
      "   75.  62.  59.]]\n"
     ]
    }
   ],
   "source": [
    "### a sample from the dataset\n",
    "print(data[[6, 9, 69]])"
   ]
  },
  {
   "cell_type": "code",
   "execution_count": 4,
   "metadata": {
    "collapsed": true
   },
   "outputs": [],
   "source": [
    "## divide into features matrix and response variables vector\n",
    "X = data[:, 1:]\n",
    "Y = np.array(data[:, 0])\n",
    "n = X.shape[0]"
   ]
  },
  {
   "cell_type": "code",
   "execution_count": 5,
   "metadata": {
    "collapsed": true
   },
   "outputs": [],
   "source": [
    "## divide data into training set and \n",
    "trainX, testX, trainY, testY = train_test_split(X, Y, test_size=0.2, random_state=0)"
   ]
  },
  {
   "cell_type": "code",
   "execution_count": 6,
   "metadata": {
    "collapsed": false
   },
   "outputs": [
    {
     "name": "stdout",
     "output_type": "stream",
     "text": [
      "CPU times: user 8.84 s, sys: 0 ns, total: 8.84 s\n",
      "Wall time: 8.84 s\n"
     ]
    }
   ],
   "source": [
    "%%time\n",
    "## train random forest\n",
    "forest = RandomForest(50, 100)\n",
    "forest.fit(trainX, trainY)\n",
    "(forest_labels, forest_conf) = forest.predict(testX)\n",
    "forest_probs = [forest_conf[i] if forest_labels[i] == 1 else 1 - forest_conf[i] for i in range(len(forest_labels))]"
   ]
  },
  {
   "cell_type": "code",
   "execution_count": 7,
   "metadata": {
    "collapsed": false
   },
   "outputs": [
    {
     "name": "stdout",
     "output_type": "stream",
     "text": [
      "CPU times: user 26 s, sys: 1.15 s, total: 27.1 s\n",
      "Wall time: 25.8 s\n"
     ]
    }
   ],
   "source": [
    "%%time\n",
    "## train logistic regression\n",
    "log_beta = logistic_regression(trainX, trainY, step_size=1e-1, max_steps=300)\n",
    "log_probs = logistic_probs(testX, log_beta)"
   ]
  },
  {
   "cell_type": "code",
   "execution_count": 8,
   "metadata": {
    "collapsed": false
   },
   "outputs": [
    {
     "name": "stdout",
     "output_type": "stream",
     "text": [
      "0.714814814815\n",
      "0.61975308642\n"
     ]
    }
   ],
   "source": [
    "### area under ROC curve\n",
    "print(roc_auc_score(testY, forest_probs))\n",
    "print(roc_auc_score(testY, log_probs))\n",
    "\n",
    "### random forest looks better\n",
    "### and they are both quite slow"
   ]
  }
 ],
 "metadata": {
  "kernelspec": {
   "display_name": "Python 3",
   "language": "python",
   "name": "python3"
  },
  "language_info": {
   "codemirror_mode": {
    "name": "ipython",
    "version": 3
   },
   "file_extension": ".py",
   "mimetype": "text/x-python",
   "name": "python",
   "nbconvert_exporter": "python",
   "pygments_lexer": "ipython3",
   "version": "3.6.0"
  }
 },
 "nbformat": 4,
 "nbformat_minor": 2
}
