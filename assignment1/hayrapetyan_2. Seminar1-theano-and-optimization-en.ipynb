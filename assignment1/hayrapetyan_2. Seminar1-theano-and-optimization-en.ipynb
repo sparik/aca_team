{
 "cells": [
  {
   "cell_type": "markdown",
   "metadata": {},
   "source": [
    "# Theano, Lasagne\n",
    "and why they matter\n",
    "\n",
    "\n",
    "### got no lasagne?\n",
    "Install the __bleeding edge__ version from here: http://lasagne.readthedocs.org/en/latest/user/installation.html"
   ]
  },
  {
   "cell_type": "markdown",
   "metadata": {},
   "source": [
    "# Warming up\n",
    "* Implement a function that computes the sum of squares of numbers from 0 to N\n",
    "* Use numpy or python\n",
    "* An array of numbers 0 to N - numpy.arange(N)"
   ]
  },
  {
   "cell_type": "code",
   "execution_count": 341,
   "metadata": {
    "collapsed": true
   },
   "outputs": [],
   "source": [
    "import numpy as np\n",
    "def sum_squares(N):\n",
    "    return np.sum(np.arange(N)**2)"
   ]
  },
  {
   "cell_type": "code",
   "execution_count": 342,
   "metadata": {},
   "outputs": [
    {
     "name": "stdout",
     "output_type": "stream",
     "text": [
      "CPU times: user 292 ms, sys: 712 ms, total: 1 s\n",
      "Wall time: 1.01 s\n"
     ]
    },
    {
     "data": {
      "text/plain": [
       "662921401752298880"
      ]
     },
     "execution_count": 342,
     "metadata": {},
     "output_type": "execute_result"
    }
   ],
   "source": [
    "%%time\n",
    "sum_squares(10**8)"
   ]
  },
  {
   "cell_type": "markdown",
   "metadata": {},
   "source": [
    "# theano teaser\n",
    "\n",
    "Doing the very same thing"
   ]
  },
  {
   "cell_type": "code",
   "execution_count": 343,
   "metadata": {
    "collapsed": true
   },
   "outputs": [],
   "source": [
    "import theano\n",
    "import theano.tensor as T"
   ]
  },
  {
   "cell_type": "code",
   "execution_count": 344,
   "metadata": {
    "collapsed": true
   },
   "outputs": [],
   "source": [
    "#I gonna be function parameter\n",
    "N = T.scalar('a dimension', dtype='int32')\n",
    "\n",
    "#i am a recipe on how to produce sum of squares of arange of N given N\n",
    "result = (T.arange(N)**2).sum()\n",
    "\n",
    "#Compiling the recipe of computing \"result\" given N\n",
    "sum_function = theano.function(inputs = [N],outputs=result)"
   ]
  },
  {
   "cell_type": "code",
   "execution_count": 345,
   "metadata": {},
   "outputs": [
    {
     "name": "stdout",
     "output_type": "stream",
     "text": [
      "CPU times: user 276 ms, sys: 72 ms, total: 348 ms\n",
      "Wall time: 350 ms\n"
     ]
    },
    {
     "data": {
      "text/plain": [
       "array(662921401752298880)"
      ]
     },
     "execution_count": 345,
     "metadata": {},
     "output_type": "execute_result"
    }
   ],
   "source": [
    "%%time\n",
    "sum_function(10**8)"
   ]
  },
  {
   "cell_type": "code",
   "execution_count": 346,
   "metadata": {
    "collapsed": true
   },
   "outputs": [],
   "source": [
    "x = T.scalar()\n",
    "\n",
    "f = theano.function([x], x / x)"
   ]
  },
  {
   "cell_type": "code",
   "execution_count": 347,
   "metadata": {},
   "outputs": [
    {
     "data": {
      "text/plain": [
       "array(1.0)"
      ]
     },
     "execution_count": 347,
     "metadata": {},
     "output_type": "execute_result"
    }
   ],
   "source": [
    "f(0)"
   ]
  },
  {
   "cell_type": "markdown",
   "metadata": {},
   "source": [
    "# How does it work?\n",
    "__if you're currently in classroom, chances are i am explaining this text wall right now__\n",
    "* 1 You define inputs f your future function;\n",
    "* 2 You write a recipe for some transformation of inputs;\n",
    "* 3 You compile it;\n",
    "* You have just got a function!\n",
    "* The gobbledegooky version: you define a function as symbolic computation graph.\n",
    "\n",
    "\n",
    "* There are two main kinds of entities: \"Inputs\" and \"Transformations\"\n",
    "* Both can be numbers, vectors, matrices, tensors, etc.\n",
    "* Both can be integers, floats of booleans (uint8) of various size.\n",
    "\n",
    "\n",
    "* An input is a placeholder for function parameters.\n",
    " * N from example above\n",
    "\n",
    "\n",
    "* Transformations are the recipes for computing something given inputs and transformation\n",
    " * (T.arange(N)^2).sum() are 3 sequential transformations of N\n",
    " * Doubles all functions of numpy vector syntax\n",
    " * You can almost always go with replacing \"np.function\" with \"T.function\" aka \"theano.tensor.function\"\n",
    "   * np.mean -> T.mean\n",
    "   * np.arange -> T.arange\n",
    "   * np.cumsum -> T.cumsum\n",
    "   * and so on.\n",
    "   * builtin operations also work that way\n",
    "   * np.arange(10).mean() -> T.arange(10).mean()\n",
    "   * Once upon a blue moon the functions have different names or locations (e.g. T.extra_ops)\n",
    "     * Ask us or google it\n",
    " \n",
    " \n",
    "Still confused? We gonna fix that."
   ]
  },
  {
   "cell_type": "code",
   "execution_count": 348,
   "metadata": {
    "collapsed": true
   },
   "outputs": [],
   "source": [
    "#Inputs\n",
    "example_input_integer = T.scalar('scalar input', dtype='float32')\n",
    "\n",
    "example_input_tensor = T.tensor4('four dimensional tensor input') #dtype = theano.config.floatX by default\n",
    "#do not warry, we won't need tensor\n",
    "#yet\n",
    "\n",
    "input_vector = T.vector('', dtype='int32') # vector of integers"
   ]
  },
  {
   "cell_type": "code",
   "execution_count": 349,
   "metadata": {
    "collapsed": true
   },
   "outputs": [],
   "source": [
    "#Transformations\n",
    "\n",
    "#transofrmation: elementwise multiplication\n",
    "double_the_vector = input_vector * 2\n",
    "\n",
    "#elementwise cosine\n",
    "elementwise_cosine = T.cos(input_vector)\n",
    "\n",
    "#difference between squared vector and vector itself\n",
    "vector_squares = input_vector**2 - input_vector"
   ]
  },
  {
   "cell_type": "code",
   "execution_count": 350,
   "metadata": {
    "collapsed": true
   },
   "outputs": [],
   "source": [
    "#Practice time:\n",
    "#create two vectors of size float32\n",
    "my_vector = T.vector('first vector', dtype='float32')\n",
    "my_vector2 = T.vector('second vector', dtype='float32')"
   ]
  },
  {
   "cell_type": "code",
   "execution_count": 351,
   "metadata": {
    "collapsed": true
   },
   "outputs": [],
   "source": [
    "#Write a transformation(recipe):\n",
    "#(vec1)*(vec2) / (sin(vec1) +1)\n",
    "my_transformation = (my_vector*my_vector2) / (T.sin(my_vector) + 1)"
   ]
  },
  {
   "cell_type": "code",
   "execution_count": 352,
   "metadata": {},
   "outputs": [
    {
     "name": "stdout",
     "output_type": "stream",
     "text": [
      "Elemwise{true_div,no_inplace}.0\n"
     ]
    }
   ],
   "source": [
    "print(my_transformation)\n",
    "#it's okay it aint a number"
   ]
  },
  {
   "cell_type": "markdown",
   "metadata": {},
   "source": [
    "# Compiling\n",
    "* So far we were using \"symbolic\" variables and transformations\n",
    " * Defining the recipe for computation, but not computing anything\n",
    "* To use the recipe, one should compile it"
   ]
  },
  {
   "cell_type": "code",
   "execution_count": 353,
   "metadata": {
    "collapsed": true
   },
   "outputs": [],
   "source": [
    "inputs = [my_vector, my_vector2]\n",
    "outputs = [my_transformation]\n",
    "\n",
    "# The next lines compile a function that takes two vectors and computes your transformation\n",
    "my_function = theano.function(\n",
    "    inputs,outputs,\n",
    "    allow_input_downcast=True #automatic type casting for input parameters (e.g. float64 -> float32)\n",
    " )"
   ]
  },
  {
   "cell_type": "code",
   "execution_count": 354,
   "metadata": {},
   "outputs": [
    {
     "name": "stdout",
     "output_type": "stream",
     "text": [
      "using python lists:\n",
      "[array([  2.1721766 ,   5.23752832,  15.77397728], dtype=float32)]\n",
      "\n",
      "using numpy arrays:\n",
      "[array([   0.        ,    2.77555895,    5.47030783,   14.02131271,\n",
      "         89.5477066 ,  676.25805664,   47.183918  ,   24.4084301 ,\n",
      "         23.68156242,   38.24041748], dtype=float32)]\n"
     ]
    }
   ],
   "source": [
    "#using function with, lists:\n",
    "print('using python lists:')\n",
    "print(my_function([1, 2, 3], [4, 5, 6]))\n",
    "print()\n",
    "\n",
    "#Or using numpy arrays:\n",
    "#btw, that 'float' dtype is casted to secong parameter dtype which is float32\n",
    "print('using numpy arrays:')\n",
    "print(my_function(np.arange(10),\n",
    "                  np.linspace(5, 6, 10, dtype='float')))"
   ]
  },
  {
   "cell_type": "markdown",
   "metadata": {},
   "source": [
    "# Debugging\n",
    "* Compilation can take a while for big functions\n",
    "* To avoid waiting, one can evaluate transformations without compiling\n",
    "* Without compilation, the code runs slower, so consider reducing input size\n"
   ]
  },
  {
   "cell_type": "code",
   "execution_count": 355,
   "metadata": {},
   "outputs": [
    {
     "name": "stdout",
     "output_type": "stream",
     "text": [
      "[  2.1721766    5.23752832  15.77397728]\n",
      "add 2 vectors [ 5.  7.  9.]\n",
      "vector's shape: [3]\n"
     ]
    }
   ],
   "source": [
    "#a dictionary of inputs\n",
    "my_function_inputs = {\n",
    "    my_vector:[1, 2, 3],\n",
    "    my_vector2:[4, 5, 6]\n",
    "}\n",
    "\n",
    "# evaluate my_transformation\n",
    "# has to match with compiled function output\n",
    "print(my_transformation.eval(my_function_inputs))\n",
    "\n",
    "\n",
    "# can compute transformations on the fly\n",
    "print('add 2 vectors', (my_vector + my_vector2).eval(my_function_inputs))\n",
    "\n",
    "\n",
    "#!WARNING! if your transformation only depends on some inputs,\n",
    "#do not provide the rest of them\n",
    "print('vector\\'s shape:', my_vector.shape.eval({\n",
    "                            my_vector: [1, 2, 3]\n",
    "                          })\n",
    "     )"
   ]
  },
  {
   "cell_type": "markdown",
   "metadata": {},
   "source": [
    "* When debugging, one would generally want to reduce the computation complexity. For example, if you are about to feed neural network with 1000 samples batch, consider taking first 2.\n",
    "* If you really want to debug graph of high computation complexity, you could just as well compile it (e.g. with optimizer='fast_compile')"
   ]
  },
  {
   "cell_type": "markdown",
   "metadata": {},
   "source": [
    "# Do It Yourself"
   ]
  },
  {
   "cell_type": "code",
   "execution_count": 356,
   "metadata": {
    "collapsed": true
   },
   "outputs": [],
   "source": [
    "# Quest #1 - implement a function that computes a mean squared error of two input vectors\n",
    "# Your function has to take 2 vectors and return a single number\n",
    "\n",
    "vec1 = T.vector('first vector', dtype='float64')\n",
    "vec2 = T.vector('second vector', dtype='float64')\n",
    "\n",
    "mse = T.mean((vec1 - vec2)**2)\n",
    "\n",
    "compute_mse = theano.function(inputs=[vec1, vec2], outputs=mse, allow_input_downcast=True)"
   ]
  },
  {
   "cell_type": "code",
   "execution_count": 357,
   "metadata": {},
   "outputs": [
    {
     "name": "stdout",
     "output_type": "stream",
     "text": [
      "All tests passed\n"
     ]
    }
   ],
   "source": [
    "# Tests\n",
    "from sklearn.metrics import mean_squared_error\n",
    "\n",
    "for n in [1, 5, 10, 10**3]:\n",
    "    elems = [np.arange(n), np.arange(n, 0, -1), np.zeros(n),\n",
    "             np.ones(n), np.random.random(n), np.random.randint(100, size=n)]\n",
    "    \n",
    "    for el in elems:\n",
    "        for el_2 in elems:\n",
    "            true_mse = np.array(mean_squared_error(el, el_2))\n",
    "            my_mse = compute_mse(el, el_2)\n",
    "            \n",
    "            if not np.allclose(true_mse, my_mse):\n",
    "                print('Wrong result:')\n",
    "                print('mse({},{})'.format(el, el_2))\n",
    "                print('should be: {}, but your function returned {}'.format(true_mse, my_mse))\n",
    "                raise ValueError('Smth went wrong')\n",
    "\n",
    "print('All tests passed')"
   ]
  },
  {
   "cell_type": "markdown",
   "metadata": {},
   "source": [
    "# Shared variables\n",
    "\n",
    "* The inputs and transformations only exist when function is called\n",
    "\n",
    "* Shared variables always stay in memory like global variables\n",
    " * Shared variables can be included into a symbolic graph\n",
    " * They can be set and evaluated using special methods\n",
    "   * but they can't change value arbitrarily during symbolic graph computation\n",
    "   * we'll cover that later;\n",
    " \n",
    " \n",
    "* Hint: such variables are a perfect place to store network parameters\n",
    " * e.g. weights or some metadata"
   ]
  },
  {
   "cell_type": "code",
   "execution_count": 358,
   "metadata": {
    "collapsed": true
   },
   "outputs": [],
   "source": [
    "#creating shared variable\n",
    "shared_vector_1 = theano.shared(np.ones(10, dtype='float64'))"
   ]
  },
  {
   "cell_type": "code",
   "execution_count": 359,
   "metadata": {},
   "outputs": [
    {
     "name": "stdout",
     "output_type": "stream",
     "text": [
      "initial value [ 1.  1.  1.  1.  1.  1.  1.  1.  1.  1.]\n"
     ]
    }
   ],
   "source": [
    "#evaluating shared variable (outside symbolicd graph)\n",
    "print('initial value', shared_vector_1.get_value())\n",
    "\n",
    "# within symbolic graph you use them just as any other input or transformation, not \"get value\" needed"
   ]
  },
  {
   "cell_type": "code",
   "execution_count": 360,
   "metadata": {},
   "outputs": [
    {
     "name": "stdout",
     "output_type": "stream",
     "text": [
      "new value [ 0.  1.  2.  3.  4.]\n"
     ]
    }
   ],
   "source": [
    "#setting new value\n",
    "shared_vector_1.set_value( np.arange(5) )\n",
    "\n",
    "#getting that new value\n",
    "print('new value', shared_vector_1.get_value())\n",
    "\n",
    "#Note that the vector changed shape\n",
    "#This is entirely allowed... unless your graph is hard-wired to work with some fixed shape"
   ]
  },
  {
   "cell_type": "markdown",
   "metadata": {},
   "source": [
    "# Your turn"
   ]
  },
  {
   "cell_type": "code",
   "execution_count": 361,
   "metadata": {
    "collapsed": true
   },
   "outputs": [],
   "source": [
    "# Write a recipe (transformation) that computes an elementwise transformation of shared_vector and input_scalar\n",
    "#Compile as a function of input_scalar\n",
    "\n",
    "input_scalar = T.scalar('coefficient', dtype='float32')\n",
    "\n",
    "scalar_times_shared = shared_vector_1 * input_scalar\n",
    "\n",
    "shared_times_n = theano.function(inputs = [input_scalar], outputs = scalar_times_shared)"
   ]
  },
  {
   "cell_type": "code",
   "execution_count": 362,
   "metadata": {},
   "outputs": [
    {
     "name": "stdout",
     "output_type": "stream",
     "text": [
      "shared: [ 0.  1.  2.  3.  4.]\n",
      "shared_times_n(5) [  0.   5.  10.  15.  20.]\n",
      "shared_times_n(-0.5) [-0.  -0.5 -1.  -1.5 -2. ]\n"
     ]
    }
   ],
   "source": [
    "print('shared:', shared_vector_1.get_value())\n",
    "\n",
    "print('shared_times_n(5)', shared_times_n(5))\n",
    "\n",
    "print('shared_times_n(-0.5)', shared_times_n(-0.5))"
   ]
  },
  {
   "cell_type": "code",
   "execution_count": 363,
   "metadata": {},
   "outputs": [
    {
     "name": "stdout",
     "output_type": "stream",
     "text": [
      "shared: [-1.  0.  1.]\n",
      "shared_times_n(5) [-5.  0.  5.]\n",
      "shared_times_n(-0.5) [ 0.5 -0.  -0.5]\n"
     ]
    }
   ],
   "source": [
    "#Changing value of vector 1 (output should change)\n",
    "shared_vector_1.set_value([-1, 0, 1])\n",
    "\n",
    "print('shared:', shared_vector_1.get_value())\n",
    "\n",
    "print('shared_times_n(5)', shared_times_n(5))\n",
    "\n",
    "print('shared_times_n(-0.5)', shared_times_n(-0.5))"
   ]
  },
  {
   "cell_type": "markdown",
   "metadata": {},
   "source": [
    "# T.grad - why theano matters\n",
    "* Theano can compute derivatives and gradients automatically\n",
    "* Derivatives are computed symbolically, not numerically\n",
    "\n",
    "Limitations:\n",
    "* You can only compute a gradient of a __scalar__ transformation over one or several scalar or vector (or tensor) transformations or inputs.\n",
    "* A transformation has to have float32 or float64 dtype throughout the whole computation graph\n",
    " * derivative over an integer has no mathematical sense\n"
   ]
  },
  {
   "cell_type": "code",
   "execution_count": 364,
   "metadata": {
    "collapsed": true
   },
   "outputs": [],
   "source": [
    "my_scalar = T.scalar(name='input',dtype='float64')\n",
    "\n",
    "scalar_squared = T.sum(my_scalar**2)\n",
    "\n",
    "#a derivative of v_squared by my_vector\n",
    "derivative = T.grad(scalar_squared,my_scalar)\n",
    "\n",
    "fun = theano.function([my_scalar], scalar_squared)\n",
    "grad = theano.function([my_scalar], derivative) "
   ]
  },
  {
   "cell_type": "code",
   "execution_count": 365,
   "metadata": {},
   "outputs": [
    {
     "data": {
      "text/plain": [
       "<matplotlib.legend.Legend at 0x7f7ad113d048>"
      ]
     },
     "execution_count": 365,
     "metadata": {},
     "output_type": "execute_result"
    },
    {
     "data": {
      "image/png": "[encoded data removed]",
      "text/plain": [
       "<matplotlib.figure.Figure at 0x7f7ae78f11d0>"
      ]
     },
     "metadata": {},
     "output_type": "display_data"
    }
   ],
   "source": [
    "import matplotlib.pyplot as plt\n",
    "plt.style.use('ggplot')\n",
    "\n",
    "%matplotlib inline\n",
    "\n",
    "x = np.linspace(-3, 3)\n",
    "x_squared = list(map(fun, x))\n",
    "x_squared_der = list(map(grad, x))\n",
    "\n",
    "plt.plot(x, x_squared, label='x^2')\n",
    "plt.plot(x, x_squared_der, label='derivative')\n",
    "plt.legend(loc='best')"
   ]
  },
  {
   "cell_type": "markdown",
   "metadata": {},
   "source": [
    "# Why that rocks"
   ]
  },
  {
   "cell_type": "code",
   "execution_count": 366,
   "metadata": {
    "collapsed": true
   },
   "outputs": [],
   "source": [
    "my_vector = T.vector('float64')\n",
    "\n",
    "#Compute the gradient of the next weird function over my_scalar and my_vector\n",
    "#warning! Trying to understand the meaning of that function may result in permanent brain damage\n",
    "\n",
    "weird_psychotic_function = ((my_vector+my_scalar)**(1+T.var(my_vector)) + 1. / T.arcsinh(my_scalar)).mean() / (my_scalar**2 + 1) + 0.01 * T.sin(2 * my_scalar**1.5) * (T.sum(my_vector) * my_scalar**2) * T.exp((my_scalar - 4)**2) / (1 + T.exp((my_scalar - 4)**2)) * (1. - (T.exp( - (my_scalar - 4)**2)) / (1 + T.exp( - (my_scalar - 4)**2)))**2\n",
    "\n",
    "der_by_scalar, der_by_vector = (T.grad(weird_psychotic_function, my_scalar), T.grad(weird_psychotic_function, my_vector))\n",
    "\n",
    "compute_weird_function = theano.function([my_scalar, my_vector], weird_psychotic_function)\n",
    "compute_der_by_scalar = theano.function([my_scalar, my_vector], der_by_scalar)"
   ]
  },
  {
   "cell_type": "code",
   "execution_count": 367,
   "metadata": {},
   "outputs": [
    {
     "data": {
      "text/plain": [
       "<matplotlib.legend.Legend at 0x7f7ad04297f0>"
      ]
     },
     "execution_count": 367,
     "metadata": {},
     "output_type": "execute_result"
    },
    {
     "data": {
      "image/png": "[encoded data removed]",
      "text/plain": [
       "<matplotlib.figure.Figure at 0x7f7aceda9c50>"
      ]
     },
     "metadata": {},
     "output_type": "display_data"
    }
   ],
   "source": [
    "#Plotting your derivative\n",
    "vector_0 = [1, 2, 3]\n",
    "\n",
    "scalar_space = np.linspace(0, 7)\n",
    "\n",
    "y = [compute_weird_function(x, vector_0) for x in scalar_space]\n",
    "plt.plot(scalar_space, y, label='function')\n",
    "y_der_by_scalar = [compute_der_by_scalar(x, vector_0) for x in scalar_space]\n",
    "plt.plot(scalar_space, y_der_by_scalar, label='derivative')\n",
    "plt.grid()\n",
    "plt.legend(loc='best')"
   ]
  },
  {
   "cell_type": "markdown",
   "metadata": {},
   "source": [
    "# Almost done - Updates\n",
    "\n",
    "* updates are a way of changing shared variables at after function call.\n",
    "\n",
    "* technically it's a dictionary {shared_variable : a recipe for new value} which is has to be provided when function is compiled\n",
    "\n",
    "That's how it works:"
   ]
  },
  {
   "cell_type": "code",
   "execution_count": 368,
   "metadata": {
    "collapsed": true
   },
   "outputs": [],
   "source": [
    "# Multiply shared vector by a number and save the product back into shared vector\n",
    "\n",
    "inputs = [input_scalar]\n",
    "outputs = [scalar_times_shared] #return vector times scalar\n",
    "\n",
    "my_updates = {\n",
    "    shared_vector_1:scalar_times_shared #and write this same result bach into shared_vector_1\n",
    "}\n",
    "\n",
    "compute_and_save = theano.function(inputs, outputs, updates=my_updates)"
   ]
  },
  {
   "cell_type": "code",
   "execution_count": 369,
   "metadata": {},
   "outputs": [
    {
     "name": "stdout",
     "output_type": "stream",
     "text": [
      "initial shared value: [ 0.  1.  2.  3.  4.]\n",
      "compute_and_save(2) returns [array([ 0.,  2.,  4.,  6.,  8.])]\n",
      "new shared value: [ 0.  2.  4.  6.  8.]\n"
     ]
    }
   ],
   "source": [
    "shared_vector_1.set_value(np.arange(5))\n",
    "\n",
    "#initial shared_vector_1\n",
    "print('initial shared value:', shared_vector_1.get_value())\n",
    "\n",
    "# evaluating the function (shared_vector_1 will be changed)\n",
    "print('compute_and_save(2) returns', compute_and_save(2))\n",
    "\n",
    "#evaluate new shared_vector_1\n",
    "print('new shared value:', shared_vector_1.get_value())"
   ]
  },
  {
   "cell_type": "markdown",
   "metadata": {},
   "source": [
    "# Logistic regression example\n",
    "\n",
    "Implement the regular logistic regression training algorithm\n",
    "\n",
    "Tips:\n",
    "* Weights fit in as a shared variable\n",
    "* X and y are potential inputs\n",
    "* Compile 2 functions:\n",
    " * train_function(X, y) - returns error and computes weights' new values __(through updates)__\n",
    " * predict_fun(X) - just computes probabilities (\"y\") given data\n",
    " \n",
    " \n",
    "We shall train on a two-class MNIST dataset\n",
    "* please note that target y are {0,1} and not {-1,1} as in some formulae"
   ]
  },
  {
   "cell_type": "code",
   "execution_count": 376,
   "metadata": {},
   "outputs": [
    {
     "name": "stdout",
     "output_type": "stream",
     "text": [
      "y [shape - (360,)]:[0 1 0 1 0 1 0 0 1 1]\n",
      "X [shape - (360, 64)]:\n",
      "[[  0.   0.   5.  13.   9.   1.   0.   0.   0.   0.  13.  15.  10.  15.\n",
      "    5.   0.   0.   3.  15.   2.   0.  11.   8.   0.   0.   4.  12.   0.\n",
      "    0.   8.   8.   0.   0.   5.   8.   0.   0.   9.   8.   0.   0.   4.\n",
      "   11.   0.   1.  12.   7.   0.   0.   2.  14.   5.  10.  12.   0.   0.\n",
      "    0.   0.   6.  13.  10.   0.   0.   0.]\n",
      " [  0.   0.   0.  12.  13.   5.   0.   0.   0.   0.   0.  11.  16.   9.\n",
      "    0.   0.   0.   0.   3.  15.  16.   6.   0.   0.   0.   7.  15.  16.\n",
      "   16.   2.   0.   0.   0.   0.   1.  16.  16.   3.   0.   0.   0.   0.\n",
      "    1.  16.  16.   6.   0.   0.   0.   0.   1.  16.  16.   6.   0.   0.\n",
      "    0.   0.   0.  11.  16.  10.   0.   0.]\n",
      " [  0.   0.   1.   9.  15.  11.   0.   0.   0.   0.  11.  16.   8.  14.\n",
      "    6.   0.   0.   2.  16.  10.   0.   9.   9.   0.   0.   1.  16.   4.\n",
      "    0.   8.   8.   0.   0.   4.  16.   4.   0.   8.   8.   0.   0.   1.\n",
      "   16.   5.   1.  11.   3.   0.   0.   0.  12.  12.  10.  10.   0.   0.\n",
      "    0.   0.   1.  10.  13.   3.   0.   0.]]\n",
      "[0 1 0 1 0 1 0 0 1 1]\n"
     ]
    }
   ],
   "source": [
    "from sklearn.datasets import load_digits\n",
    "mnist = load_digits(2)\n",
    "\n",
    "X = mnist.data\n",
    "y = mnist.target\n",
    "\n",
    "print('y [shape - {}]:{}'.format(str(y.shape), y[:10]))\n",
    "print('X [shape - {}]:'.format(str(X.shape)))\n",
    "print(X[:3])\n",
    "print(y[:10])"
   ]
  },
  {
   "cell_type": "code",
   "execution_count": 400,
   "metadata": {},
   "outputs": [],
   "source": [
    "# inputs and shareds\n",
    "shared_weights = theano.shared(np.random.randn(64))\n",
    "input_X = T.matrix('data matrix', dtype='float64')\n",
    "input_y = T.vector('target vector', dtype='int64')"
   ]
  },
  {
   "cell_type": "code",
   "execution_count": 401,
   "metadata": {},
   "outputs": [],
   "source": [
    "predicted_y = 1 / (1 + T.exp(-T.dot(input_X, shared_weights)))\n",
    "\n",
    "loss = -T.mean(input_y * T.log(predicted_y + 1e-6) + (1 - input_y) * T.log(1 - predicted_y + 1e-6))\n",
    "\n",
    "grad = T.grad(loss, shared_weights)\n",
    "\n",
    "\n",
    "updates = {\n",
    "    shared_weights: (shared_weights - 0.01 * grad)\n",
    "}"
   ]
  },
  {
   "cell_type": "code",
   "execution_count": 402,
   "metadata": {},
   "outputs": [],
   "source": [
    "train_function = theano.function(inputs=[input_X, input_y], outputs=loss, updates=updates)\n",
    "predict_function = theano.function(inputs=[input_X], outputs=predicted_y)"
   ]
  },
  {
   "cell_type": "code",
   "execution_count": 403,
   "metadata": {},
   "outputs": [],
   "source": [
    "from sklearn.cross_validation import train_test_split\n",
    "X_train,X_test,y_train,y_test = train_test_split(X,y)"
   ]
  },
  {
   "cell_type": "code",
   "execution_count": 404,
   "metadata": {},
   "outputs": [
    {
     "name": "stdout",
     "output_type": "stream",
     "text": [
      "loss at iter 0:0.9936037562260249\n",
      "train auc: 0.974203296703\n",
      "test auc: 0.977226720648\n",
      "loss at iter 1:0.705515497210146\n",
      "train auc: 0.976758241758\n",
      "test auc: 0.97975708502\n",
      "loss at iter 2:0.5893042766331161\n",
      "train auc: 0.978956043956\n",
      "test auc: 0.982287449393\n",
      "loss at iter 3:0.5302420091746906\n",
      "train auc: 0.980549450549\n",
      "test auc: 0.986842105263\n",
      "loss at iter 4:0.4897027339851321\n",
      "train auc: 0.981648351648\n",
      "test auc: 0.987854251012\n",
      "loss at iter 5:0.4590675624244633\n",
      "train auc: 0.982527472527\n",
      "test auc: 0.988360323887\n",
      "loss at iter 6:0.4346041581164429\n",
      "train auc: 0.983681318681\n",
      "test auc: 0.98987854251\n",
      "loss at iter 7:0.41397740507921443\n",
      "train auc: 0.984642857143\n",
      "test auc: 0.990384615385\n",
      "loss at iter 8:0.395928643277645\n",
      "train auc: 0.985247252747\n",
      "test auc: 0.992914979757\n",
      "loss at iter 9:0.3797649187692142\n",
      "train auc: 0.985741758242\n",
      "test auc: 0.993421052632\n",
      "loss at iter 10:0.3650236455173591\n",
      "train auc: 0.986263736264\n",
      "test auc: 0.993421052632\n",
      "loss at iter 11:0.3513772737575051\n",
      "train auc: 0.986895604396\n",
      "test auc: 0.993927125506\n",
      "loss at iter 12:0.3386137114282767\n",
      "train auc: 0.987445054945\n",
      "test auc: 0.994433198381\n",
      "loss at iter 13:0.3266090190682569\n",
      "train auc: 0.988131868132\n",
      "test auc: 0.994433198381\n",
      "loss at iter 14:0.3152951460636317\n",
      "train auc: 0.988489010989\n",
      "test auc: 0.994939271255\n",
      "loss at iter 15:0.3046343309501083\n",
      "train auc: 0.988983516484\n",
      "test auc: 0.99544534413\n",
      "loss at iter 16:0.2946020609998501\n",
      "train auc: 0.989258241758\n",
      "test auc: 0.99544534413\n",
      "loss at iter 17:0.28517668148146297\n",
      "train auc: 0.989725274725\n",
      "test auc: 0.995951417004\n",
      "loss at iter 18:0.27633372756572805\n",
      "train auc: 0.990192307692\n",
      "test auc: 0.995951417004\n",
      "loss at iter 19:0.2680436267736078\n",
      "train auc: 0.990412087912\n",
      "test auc: 0.996457489879\n",
      "loss at iter 20:0.26027171559551915\n",
      "train auc: 0.990796703297\n",
      "test auc: 0.996457489879\n",
      "loss at iter 21:0.2529796273486188\n",
      "train auc: 0.991071428571\n",
      "test auc: 0.996457489879\n",
      "loss at iter 22:0.24612724739455685\n",
      "train auc: 0.991126373626\n",
      "test auc: 0.997469635628\n",
      "loss at iter 23:0.23967465654110504\n",
      "train auc: 0.991291208791\n",
      "test auc: 0.997469635628\n",
      "loss at iter 24:0.23358373513017508\n",
      "train auc: 0.991565934066\n",
      "test auc: 0.997975708502\n",
      "loss at iter 25:0.22781930477072565\n",
      "train auc: 0.991675824176\n",
      "test auc: 0.997975708502\n",
      "loss at iter 26:0.22234981219492148\n",
      "train auc: 0.991758241758\n",
      "test auc: 0.997975708502\n",
      "loss at iter 27:0.2171476181637215\n",
      "train auc: 0.991840659341\n",
      "test auc: 0.998481781377\n",
      "loss at iter 28:0.21218897234251716\n",
      "train auc: 0.991978021978\n",
      "test auc: 0.998481781377\n",
      "loss at iter 29:0.2074537503150053\n",
      "train auc: 0.992087912088\n",
      "test auc: 0.998481781377\n",
      "loss at iter 30:0.20292502234889026\n",
      "train auc: 0.992225274725\n",
      "test auc: 0.998481781377\n",
      "loss at iter 31:0.19858851678653827\n",
      "train auc: 0.994945054945\n",
      "test auc: 0.998481781377\n",
      "loss at iter 32:0.19443203784584887\n",
      "train auc: 0.995164835165\n",
      "test auc: 0.998481781377\n",
      "loss at iter 33:0.19044492423043935\n",
      "train auc: 0.995384615385\n",
      "test auc: 0.998481781377\n",
      "loss at iter 34:0.18661744988528728\n",
      "train auc: 0.995604395604\n",
      "test auc: 0.998481781377\n",
      "loss at iter 35:0.18294049088206243\n",
      "train auc: 0.995824175824\n",
      "test auc: 0.998481781377\n",
      "loss at iter 36:0.17940520109149544\n",
      "train auc: 0.996098901099\n",
      "test auc: 0.998481781377\n",
      "loss at iter 37:0.17600283655658677\n",
      "train auc: 0.996208791209\n",
      "test auc: 0.998481781377\n",
      "loss at iter 38:0.17272468955284115\n",
      "train auc: 0.996318681319\n",
      "test auc: 0.998481781377\n",
      "loss at iter 39:0.16956210883722395\n",
      "train auc: 0.996318681319\n",
      "test auc: 0.998481781377\n",
      "loss at iter 40:0.1665065780225878\n",
      "train auc: 0.996318681319\n",
      "test auc: 0.998481781377\n",
      "loss at iter 41:0.1635498236963532\n",
      "train auc: 0.996318681319\n",
      "test auc: 0.998481781377\n",
      "loss at iter 42:0.16068392996331818\n",
      "train auc: 0.996538461538\n",
      "test auc: 0.998481781377\n",
      "loss at iter 43:0.15790144216722035\n",
      "train auc: 0.996703296703\n",
      "test auc: 0.998481781377\n",
      "loss at iter 44:0.15519544962008286\n",
      "train auc: 0.996868131868\n",
      "test auc: 0.998481781377\n",
      "loss at iter 45:0.15255964288969281\n",
      "train auc: 0.996978021978\n",
      "test auc: 0.998481781377\n",
      "loss at iter 46:0.14998834521420296\n",
      "train auc: 0.997307692308\n",
      "test auc: 0.998481781377\n",
      "loss at iter 47:0.14747652015883364\n",
      "train auc: 0.997472527473\n",
      "test auc: 0.998481781377\n",
      "loss at iter 48:0.14501975899616962\n",
      "train auc: 0.997582417582\n",
      "test auc: 0.998481781377\n",
      "loss at iter 49:0.14261425158777152\n",
      "train auc: 0.997637362637\n",
      "test auc: 0.998481781377\n",
      "loss at iter 50:0.14025674402412694\n",
      "train auc: 0.997637362637\n",
      "test auc: 0.998481781377\n",
      "loss at iter 51:0.13794448614147672\n",
      "train auc: 0.997637362637\n",
      "test auc: 0.998481781377\n",
      "loss at iter 52:0.135675171486014\n",
      "train auc: 0.997637362637\n",
      "test auc: 0.998481781377\n",
      "loss at iter 53:0.1334468720197046\n",
      "train auc: 0.997637362637\n",
      "test auc: 0.998481781377\n",
      "loss at iter 54:0.1312579697162437\n",
      "train auc: 0.997802197802\n",
      "test auc: 0.998481781377\n",
      "loss at iter 55:0.12910708717543887\n",
      "train auc: 0.997912087912\n",
      "test auc: 0.998481781377\n",
      "loss at iter 56:0.12699301942858482\n",
      "train auc: 0.997912087912\n",
      "test auc: 0.998481781377\n",
      "loss at iter 57:0.12491466957845024\n",
      "train auc: 0.998021978022\n",
      "test auc: 0.998481781377\n",
      "loss at iter 58:0.12287098784606079\n",
      "train auc: 0.998021978022\n",
      "test auc: 0.998481781377\n",
      "loss at iter 59:0.12086092227087038\n",
      "train auc: 0.998021978022\n",
      "test auc: 0.998481781377\n",
      "loss at iter 60:0.11888337446949833\n",
      "train auc: 0.998131868132\n",
      "test auc: 0.998481781377\n",
      "loss at iter 61:0.1169371675765541\n",
      "train auc: 0.998131868132\n",
      "test auc: 0.998481781377\n",
      "loss at iter 62:0.11502102452645022\n",
      "train auc: 0.998186813187\n",
      "test auc: 0.998987854251\n",
      "loss at iter 63:0.11313355710464681\n",
      "train auc: 0.998186813187\n",
      "test auc: 0.998987854251\n",
      "loss at iter 64:0.11127326497759064\n",
      "train auc: 0.998186813187\n",
      "test auc: 0.999493927126\n",
      "loss at iter 65:0.10943854381614876\n",
      "train auc: 0.998186813187\n",
      "test auc: 0.999493927126\n",
      "loss at iter 66:0.1076277013343077\n",
      "train auc: 0.998186813187\n",
      "test auc: 0.999493927126\n",
      "loss at iter 67:0.1058389796921506\n",
      "train auc: 0.998296703297\n",
      "test auc: 0.999493927126\n",
      "loss at iter 68:0.10407058301840176\n",
      "train auc: 0.998351648352\n",
      "test auc: 0.999493927126\n",
      "loss at iter 69:0.10232070878838753\n",
      "train auc: 0.998351648352\n",
      "test auc: 0.999493927126\n",
      "loss at iter 70:0.10058758194978264\n",
      "train auc: 0.998351648352\n",
      "test auc: 0.999493927126\n",
      "loss at iter 71:0.09886949080902124\n",
      "train auc: 0.998351648352\n",
      "test auc: 0.999493927126\n",
      "loss at iter 72:0.09716482376252475\n",
      "train auc: 0.998351648352\n",
      "test auc: 0.999493927126\n",
      "loss at iter 73:0.09547210596643071\n",
      "train auc: 0.998461538462\n",
      "test auc: 0.999493927126\n",
      "loss at iter 74:0.09379003499047547\n",
      "train auc: 0.998461538462\n",
      "test auc: 0.999493927126\n",
      "loss at iter 75:0.09211751442259981\n",
      "train auc: 0.998516483516\n",
      "test auc: 0.999493927126\n",
      "loss at iter 76:0.09045368431966429\n",
      "train auc: 0.998516483516\n",
      "test auc: 0.999493927126\n",
      "loss at iter 77:0.08879794737989445\n",
      "train auc: 0.998516483516\n",
      "test auc: 0.999493927126\n",
      "loss at iter 78:0.08714998978289486\n",
      "train auc: 0.998571428571\n",
      "test auc: 0.999493927126\n",
      "loss at iter 79:0.08550979582325453\n",
      "train auc: 0.998571428571\n",
      "test auc: 0.999493927126\n",
      "loss at iter 80:0.08387765574445968\n",
      "train auc: 0.998681318681\n",
      "test auc: 0.999493927126\n",
      "loss at iter 81:0.08225416652422972\n",
      "train auc: 0.998736263736\n",
      "test auc: 0.999493927126\n",
      "loss at iter 82:0.08064022570424154\n",
      "train auc: 0.998736263736\n",
      "test auc: 0.999493927126\n",
      "loss at iter 83:0.07903701862964849\n",
      "train auc: 0.998736263736\n",
      "test auc: 0.999493927126\n",
      "loss at iter 84:0.07744599960852264\n",
      "train auc: 0.998736263736\n",
      "test auc: 0.999493927126\n",
      "loss at iter 85:0.07586886749740315\n",
      "train auc: 0.998736263736\n",
      "test auc: 0.999493927126\n",
      "loss at iter 86:0.07430753608957193\n",
      "train auc: 0.998791208791\n",
      "test auc: 0.999493927126\n",
      "loss at iter 87:0.07276409949492771\n",
      "train auc: 0.998791208791\n",
      "test auc: 1.0\n",
      "loss at iter 88:0.07124079250638746\n",
      "train auc: 0.998791208791\n",
      "test auc: 1.0\n",
      "loss at iter 89:0.06973994621083286\n",
      "train auc: 0.998846153846\n",
      "test auc: 1.0\n",
      "loss at iter 90:0.06826393842897945\n",
      "train auc: 0.998846153846\n",
      "test auc: 1.0\n",
      "loss at iter 91:0.06681514041647188\n",
      "train auc: 0.998846153846\n",
      "test auc: 1.0\n",
      "loss at iter 92:0.0653958604275267\n",
      "train auc: 0.998846153846\n",
      "test auc: 1.0\n",
      "loss at iter 93:0.06400828629420825\n",
      "train auc: 0.998846153846\n",
      "test auc: 1.0\n",
      "loss at iter 94:0.06265442968417718\n",
      "train auc: 0.998901098901\n",
      "test auc: 1.0\n",
      "loss at iter 95:0.06133607473740362\n",
      "train auc: 0.998901098901\n",
      "test auc: 1.0\n",
      "loss at iter 96:0.06005473458265916\n",
      "train auc: 0.998901098901\n",
      "test auc: 1.0\n",
      "loss at iter 97:0.05881161827170076\n",
      "train auc: 0.998956043956\n",
      "test auc: 1.0\n",
      "loss at iter 98:0.05760760991452773\n",
      "train auc: 0.998956043956\n",
      "test auc: 1.0\n",
      "loss at iter 99:0.05644326129103891\n",
      "train auc: 0.999120879121\n",
      "test auc: 1.0\n",
      "resulting weights:\n"
     ]
    },
    {
     "data": {
      "text/plain": [
       "<matplotlib.colorbar.Colorbar at 0x7f7b00f80470>"
      ]
     },
     "execution_count": 404,
     "metadata": {},
     "output_type": "execute_result"
    },
    {
     "data": {
      "image/png": "[encoded data removed]",
      "text/plain": [
       "<matplotlib.figure.Figure at 0x7f7acd911208>"
      ]
     },
     "metadata": {},
     "output_type": "display_data"
    }
   ],
   "source": [
    "from sklearn.metrics import roc_auc_score\n",
    "\n",
    "for i in range(100):\n",
    "    loss_i = train_function(X_train, y_train)\n",
    "    print('loss at iter {}:{}'.format(i, loss_i))\n",
    "    print('train auc:', roc_auc_score(y_train,predict_function(X_train)))\n",
    "    print('test auc:', roc_auc_score(y_test,predict_function(X_test)))\n",
    "    \n",
    "print('resulting weights:')\n",
    "          \n",
    "plt.imshow(shared_weights.get_value().reshape(8, -1))\n",
    "plt.colorbar()"
   ]
  },
  {
   "cell_type": "code",
   "execution_count": 405,
   "metadata": {},
   "outputs": [
    {
     "name": "stdout",
     "output_type": "stream",
     "text": [
      "[ 0.12078024  0.03127902 -1.25201343 -0.9081425   1.58930403 -0.09673391\n",
      "  0.81309448  1.01135622 -0.65566898  0.45546257  0.40078773  0.55832868\n",
      "  0.30817539 -0.01668518  0.65924494  0.04319298  0.91946475 -0.1361968\n",
      " -0.41704275  0.3475778  -0.2232394  -0.7330713   0.4756723   0.91198884\n",
      "  0.5137783   0.10089647  0.94508557  0.67936297  0.51665936  0.10548237\n",
      " -0.29399128 -0.40793424  0.62065804 -0.2996478  -0.34605059  1.46116746\n",
      "  0.5784256  -0.10200419 -0.72233043  0.45196945 -1.37799768 -1.83721339\n",
      " -1.62486141 -1.03902909  0.57662232 -0.94714918 -1.52387334 -1.32543978\n",
      " -0.8806589   0.13508312  1.20388477 -2.00831795  0.6549023   0.23670414\n",
      " -0.1836446  -0.79689742  1.60668712  0.12579604 -0.05902181  0.51321846\n",
      " -0.93604278  0.68234851 -0.51199369 -0.15422695]\n"
     ]
    }
   ],
   "source": [
    "print(shared_weights.get_value())"
   ]
  },
  {
   "cell_type": "markdown",
   "metadata": {},
   "source": [
    "# Report\n",
    "\n",
    "I did such and such, that did that cool thing and my awesome logistic regression bloated out that stuff. Finally, i did that thing and felt like Einstein. That cool article and that kind of weed helped me so much (if any)."
   ]
  },
  {
   "cell_type": "markdown",
   "metadata": {
    "collapsed": true
   },
   "source": [
    "I struggled for one hour trying to combine two tensor functions (already compiled). I had defined and compiled a function called sigmoid, and I was trying to use it for predicted_y, then I realized that I don't need such things.\n",
    "Then after I got rid of errors, gradient descent started to converge in 5 steps, I found it hard to believe so I tried to find a bug and spent ~2 hours testing everything. It turned out that I actually had done something wrong\n",
    "I found Theano's documentation helpful.\n",
    "\n",
    "\n",
    "P.S. no plants were harmed in the making of this notebook\n",
    "\n",
    "\n",
    "\n",
    "\n",
    "\n",
    "\n",
    "\n",
    "\n",
    "\n",
    "\n"
   ]
  },
  {
   "cell_type": "markdown",
   "metadata": {},
   "source": [
    "# SPOILERS!\n",
    "\n",
    "## Recommended pipeline\n",
    "* Adapt logistic regression to classify some number against others (e.g. zero vs nonzero)\n",
    "    * Generalize it to multiclass logistic regression.\n",
    "* Instead of weight vector you'll have to use matrix (feature_id x class_id)\n",
    "* softmax (exp over sum of exps) can be implemented manually or as T.nnet.softmax (stable)\n",
    "* probably better to use STOCHASTIC gradient descent (minibatch)\n",
    "     in which case sample should probably be shuffled (or use random subsamples on each iteration)"
   ]
  }
 ],
 "metadata": {
  "kernelspec": {
   "display_name": "Python 3",
   "language": "python",
   "name": "python3"
  },
  "language_info": {
   "codemirror_mode": {
    "name": "ipython",
    "version": 3
   },
   "file_extension": ".py",
   "mimetype": "text/x-python",
   "name": "python",
   "nbconvert_exporter": "python",
   "pygments_lexer": "ipython3",
   "version": "3.5.2"
  },
  "toc": {
   "colors": {
    "hover_highlight": "#DAA520",
    "running_highlight": "#FF0000",
    "selected_highlight": "#FFD700"
   },
   "moveMenuLeft": true,
   "nav_menu": {
    "height": "314px",
    "width": "252px"
   },
   "navigate_menu": true,
   "number_sections": true,
   "sideBar": false,
   "threshold": 4,
   "toc_cell": false,
   "toc_position": {
    "height": "371px",
    "left": "0.989583px",
    "right": "20px",
    "top": "106.997px",
    "width": "249px"
   },
   "toc_section_display": "block",
   "toc_window_display": false,
   "widenNotebook": false
  }
 },
 "nbformat": 4,
 "nbformat_minor": 1
}
