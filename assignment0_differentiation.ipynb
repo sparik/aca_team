{
 "cells": [
  {
   "cell_type": "markdown",
   "metadata": {},
   "source": [
    "# Differentiation "
   ]
  },
  {
   "cell_type": "markdown",
   "metadata": {},
   "source": [
    "Since it easy to google every task please please please try to undestand what's going on. The \"just answer\" thing will be not counted, make sure to present derivation of your solution. It is absolutely OK if you found an answer on web then just exercise in $\\LaTeX$ copying it into here."
   ]
  },
  {
   "cell_type": "markdown",
   "metadata": {},
   "source": [
    "Useful links: \n",
    "[1](http://www.machinelearning.ru/wiki/images/2/2a/Matrix-Gauss.pdf)\n",
    "[2](http://www.atmos.washington.edu/~dennis/MatrixCalculus.pdf)\n",
    "[3](http://cal.cs.illinois.edu/~johannes/research/matrix%20calculus.pdf)"
   ]
  },
  {
   "cell_type": "markdown",
   "metadata": {},
   "source": [
    "## ex. 1 "
   ]
  },
  {
   "cell_type": "markdown",
   "metadata": {},
   "source": [
    "$$  \n",
    "y = x^Tx,  \\quad x \\in \\mathbb{R}^N \n",
    "$$"
   ]
  },
  {
   "cell_type": "markdown",
   "metadata": {},
   "source": [
    "$$\n",
    "\\frac{\\partial y}{\\partial x} = x\n",
    "$$"
   ]
  },
  {
   "cell_type": "markdown",
   "metadata": {},
   "source": [
    "### solution\n"
   ]
  },
  {
   "cell_type": "markdown",
   "metadata": {},
   "source": [
    "$$\n",
    "y = \\sum_{i=1}^Nx_i^2\n",
    "$$\n",
    "$$\n",
    "\\frac{\\partial y}{\\partial x} = \\left[\\frac{\\partial y}{\\partial x_1}, \\dots , \\frac{\\partial y}{\\partial x_N}\\right] \\\\\n",
    "\\frac{\\partial y}{\\partial x} = \\left[x_1, \\dots , x_N\\right] = x\n",
    "$$"
   ]
  },
  {
   "cell_type": "markdown",
   "metadata": {},
   "source": [
    "## ex. 2"
   ]
  },
  {
   "cell_type": "markdown",
   "metadata": {},
   "source": [
    "$$ y = tr(AB) \\quad A,B \\in \\mathbb{R}^{N \\times N} $$ "
   ]
  },
  {
   "cell_type": "markdown",
   "metadata": {},
   "source": [
    "$$\n",
    "\\frac{\\partial y}{\\partial a_{ij}}  = ?\n",
    "$$\n",
    "\n",
    "$$\n",
    "\\frac{dy}{dA} = ?\n",
    "$$"
   ]
  },
  {
   "cell_type": "markdown",
   "metadata": {},
   "source": [
    "#### Solution\n",
    "$$ \n",
    "tr(AB) = \\sum_{i,k=1}^N a_{ik}b_{ki} \n",
    "$$\n",
    "\n",
    "$$\n",
    "\\frac{\\partial y}{\\partial a_{ij}} = \\delta_{k,j} b_{ki} = b_{ji},\n",
    "$$\n",
    "where $\\delta_{k,j}$ is the Kronecker's symbol:\n",
    "$\\delta_{k,j} = 1$, if $k=j$, else $0$\n",
    "\n",
    "In **numerator layout convention**, the insertion of the resulting matrix elements follows that of the numerator, and transpose of the denominator. In out case, the elemens $\\frac{\\partial y}{\\partial a_{ij}}$ are filled in the $(j,i)$ position of the matrix: \n",
    "\n",
    "\\begin{pmatrix}\n",
    "\\frac{\\partial y}{\\partial a_{11}} & \\frac{\\partial y}{\\partial a_{21}} & \\dots & \\frac{\\partial y}{\\partial a_{N1}} \\\\\n",
    "\\frac{\\partial y}{\\partial a_{12}} & \\frac{\\partial y}{\\partial a_{22}} & \\dots & \\frac{\\partial y}{\\partial a_{N2}} \\\\\n",
    "\\dots & \\dots & \\dots & \\dots\\\\\n",
    "\\frac{\\partial y}{\\partial a_{1N}} & \\frac{\\partial y}{\\partial a_{2N}} & \\dots & \\frac{\\partial y}{\\partial a_{NN}}\n",
    "\\end{pmatrix}\n",
    "\n",
    "or \n",
    "\\begin{pmatrix}\n",
    "b_{11} & b_{12} & \\dots & b_{1N} \\\\\n",
    "b_{21} & b_{22} & \\dots & b_{2N} \\\\\n",
    "\\dots & \\dots & \\dots & \\dots\\\\\n",
    "b_{N1} & b_{N2} & \\dots & b_{NN}\n",
    "\\end{pmatrix}\n",
    "\n",
    "Hence \n",
    "$$\n",
    "\\frac{\\partial y}{\\partial A} = B\n",
    "$$\n",
    "\n",
    "Note that had we adopted the denominator layout convention, instead of $B$ we would get $B^T$.\n",
    "\n",
    "QED"
   ]
  },
  {
   "cell_type": "markdown",
   "metadata": {},
   "source": [
    "## ex. 3"
   ]
  },
  {
   "cell_type": "markdown",
   "metadata": {},
   "source": [
    "$$  \n",
    "y = x^TAc , \\quad A\\in \\mathbb{R}^{N \\times N}, x\\in \\mathbb{R}^{N}, c\\in \\mathbb{R}^{N} \n",
    "$$"
   ]
  },
  {
   "cell_type": "markdown",
   "metadata": {},
   "source": [
    "$$\n",
    "\\frac{dy}{dA} = ?\n",
    "$$ "
   ]
  },
  {
   "cell_type": "markdown",
   "metadata": {},
   "source": [
    "### solution of ex.3\n",
    "$$\n",
    "y = \\sum_{k,l=1}^N x_k a_{kl} c_l\n",
    "$$\n",
    "\n",
    "\\begin{equation}\n",
    "\\frac{\\partial y}{\\partial a_{ij}} =  x_i c_j\n",
    "\\end{equation}\n",
    "\n",
    "Hence\n",
    "\\begin{equation}\n",
    "\\frac{\\partial y}{\\partial A} = \n",
    "\\begin{pmatrix}\n",
    "x_1c_1 & x_2c_1 & \\dots & x_Nc_1 \\\\\n",
    "x_1c_2 & x_2c_2 & \\dots & x_Nc_2 \\\\\n",
    "\\dots & \\dots & \\dots & \\dots\\\\\n",
    "x_1c_N & x_2c_N & \\dots & x_Nc_N\n",
    "\\end{pmatrix} = \n",
    "\\begin{pmatrix}\n",
    "c_1x^T  \\\\\n",
    "c_2x^T \\\\\n",
    "\\dots \\\\\n",
    "c_Nx^T\n",
    "\\end{pmatrix}\n",
    "= cx^T\n",
    "\\end{equation}\n",
    "\n",
    "QED"
   ]
  },
  {
   "cell_type": "markdown",
   "metadata": {},
   "source": [
    "## ex. 4"
   ]
  },
  {
   "cell_type": "markdown",
   "metadata": {},
   "source": [
    "Classic matrix factorization example. Given matrix $X$ you need to find $A$, $S$ to approximate $X$. This can be done by simple gradient descent iteratively alternating $A$ and $S$ updates.\n",
    "$$\n",
    "J = || X - AS ||_2^2  , \\quad A\\in \\mathbb{R}^{N \\times R} , \\quad S\\in \\mathbb{R}^{R \\times M}\n",
    "$$"
   ]
  },
  {
   "cell_type": "markdown",
   "metadata": {},
   "source": [
    "$$\n",
    "\\frac{dJ}{dS} = ?\n",
    "$$"
   ]
  },
  {
   "cell_type": "markdown",
   "metadata": {},
   "source": [
    "### First approach\n",
    "Using ex.2 and the fact:\n",
    "$$\n",
    "|| X ||_2^2 = tr(XX^T) \n",
    "$$ \n",
    "it is easy to derive gradients (you can find it in one of the refs). "
   ]
  },
  {
   "cell_type": "markdown",
   "metadata": {},
   "source": [
    "### solution\n",
    "\n",
    "\\begin{equation}\n",
    "\\begin{split}\n",
    "J = ||X - AS||^2_2 \n",
    "  & = tr\\left((X - AS)^T(X - AS)\\right)\n",
    "\\\\& = tr\\left((X^T - S^TA^T)(X - AS)\\right)\n",
    "\\\\& = tr\\left(X^TX \\right) - tr\\left(X^TAS \\right) - tr\\left(S^TA^TX \\right) + tr\\left(S^TA^TAS \\right)\n",
    "\\\\& = tr\\left(X^TX \\right) - tr\\left(X^TAS \\right) - tr\\left((S^TA^TX)^T \\right) + tr\\left(S^TA^TAS \\right)\n",
    "\\\\& = tr\\left(X^TX \\right) - tr\\left(X^TAS \\right) - tr\\left(X^TAS \\right) + tr\\left(S^TA^TAS \\right)\n",
    "\\\\& = tr\\left(X^TX \\right) - 2tr\\left(X^TAS \\right) + tr\\left(S^TA^TAS \\right)\n",
    "\\end{split}\n",
    "\\end{equation}\n",
    "\n",
    "Let's firs calculate the midle term. We already have the solution from ex.2 above:\n",
    "\n",
    "\\begin{equation}\n",
    "\\frac{\\partial \\left(tr\\left(X^TAS \\right) \\right)}{\\partial S} = X^TA\n",
    "\\end{equation}\n",
    "\n",
    "For the third term, we note that the product rule for derivatives applies only to the differential form. We assume $A$ doesn't depend on $S$.\n",
    "\n",
    "\\begin{equation}\n",
    "\\begin{split}\n",
    "\\partial \\left(tr\\left(S^TA^TAS \\right)\\right) \n",
    "  & = \\partial tr\\left(A^TASS^T \\right)\n",
    "\\\\& = tr\\left(A^TA \\partial (SS^T) \\right)\n",
    "\\\\& = tr\\left(A^TA (\\partial S)S^T \\right) + tr\\left(A^TA S\\left(\\partial S^T\\right) \\right)\n",
    "\\\\& = tr\\left(S^TA^TA (\\partial S) \\right) + tr\\left(\\left[A^TA S(\\partial S^T)\\right]^T \\right)\n",
    "\\\\& = tr\\left(S^TA^TA (\\partial S) \\right) + tr\\left((\\partial S) S^TA^T A \\right)\n",
    "\\\\& = tr\\left(S^TA^TA (\\partial S) \\right) + tr\\left(S^TA^T A (\\partial S)\\right)\n",
    "\\\\& = 2tr\\left(S^TA^TA (\\partial S) \\right)\n",
    "\\end{split}\n",
    "\\end{equation}\n",
    "\n",
    "So that \n",
    "$$\n",
    "\\frac{\\partial \\left(tr\\left(S^TA^TAS \\right)\\right) }{\\partial S} = 2S^TA^TA\n",
    "$$\n",
    "\n",
    "Hence the result is\n",
    "$$\n",
    "\\frac{\\partial J}{\\partial S} = -2X^TA + 2 S^TA^TA\n",
    "$$\n",
    "\n",
    "Note that the dimensions agree. dim$(X^TA) = M \\times R$, dim$(S^TA^TA) = M \\times R$, and as $J$ is a scalar, \n",
    "dim$(\\frac{\\partial J}{\\partial S} )$ has to have dimension of $S^T$ which is $M \\times R$.\n",
    "\n",
    "Again, had we adopted the denominator layout convention, we would get the transpose of the result above.\n",
    "\n",
    "QED"
   ]
  },
  {
   "cell_type": "markdown",
   "metadata": {
    "collapsed": true
   },
   "source": [
    "### Second approach\n",
    "You can use *slightly different techniques* if they suits you. Take a look at this derivation:\n",
    "![](../imgs/grad.png)\n",
    "\n",
    "(excerpt from [Handbook of blind source separation, Jutten, page 517](https://books.google.ru/books?id=PTbj03bYH6kC&printsec=frontcover&dq=Handbook+of+Blind+Source+Separation&hl=en&sa=X&ved=0ahUKEwi-q_apiJDLAhULvXIKHVXJDWcQ6AEIHDAA#v=onepage&q=Handbook%20of%20Blind%20Source%20Separation&f=false), open for better picture)."
   ]
  },
  {
   "cell_type": "markdown",
   "metadata": {},
   "source": [
    "### Third approach\n",
    "And finally we can use chain rule! **YOUR TURN** to do it.\n",
    "let $ F = AS $ \n",
    "\n",
    "**Find**"
   ]
  },
  {
   "cell_type": "markdown",
   "metadata": {},
   "source": [
    "$$\n",
    "\\frac{dJ}{dF} = ?\n",
    "$$ \n",
    "### solution (calculating $\\frac{dJ}{dF}$ and $\\frac{dF}{dS}$)\n",
    "\\begin{equation}\n",
    "\\begin{split}\n",
    "J = ||X-F||^2 \n",
    "  & = tr\\left((X-F)^T(X-F)\\right)\n",
    "\\\\& = tr(X^TX) - tr(X^TF) -tr(F^TX) + tr(F^TF) \n",
    "\\\\& = tr(X^TX) - tr(X^TF) -tr\\left((F^TX)^T\\right) + tr(F^TF) \n",
    "\\\\& = tr(X^TX) - 2tr(X^TF) + tr(F^TF) \n",
    "\\\\& = \\sum_{i=1}^N\\sum_{j=1}^M x_{ij}^2 - 2tr(X^TF) + \\sum_{i=1}^N\\sum_{j=1}^M f_{ij}^2\n",
    "\\end{split}\n",
    "\\end{equation}\n",
    "\n",
    "where we used the fact that trace is a linear map as well as $tr(A) = tr(A^T)$. For the derivative, we can write\n",
    "\n",
    "$$\n",
    "\\frac{dJ}{df_{ij}} = -2(x)^T_{ji} + 2f_{ij} = -2x_{ij} + 2f_{ij}\n",
    "$$\n",
    "$$\n",
    "\\frac{dJ}{dF}= -2(X^T - F^T)\n",
    "$$\n",
    "\n",
    "where we used the convention used in ex.2"
   ]
  },
  {
   "cell_type": "markdown",
   "metadata": {},
   "source": [
    "and \n",
    "$$\n",
    "\\frac{dF}{dS} = ?\n",
    "$$ \n",
    "(the shape should be $ NM \\times RM )$.\n",
    "\n",
    "Let's start with writing $\\frac{dF}{dS}$ first expanding by the denominator's indices. This should have dimension of $S^T$, i.e., $M \\times R$\n",
    "\n",
    "\\begin{equation}\n",
    "\\frac{dF}{dS} = \n",
    "\\begin{pmatrix}\n",
    "\\frac{\\partial F}{\\partial s_{11}} & \\frac{\\partial F}{\\partial s_{21}} & \\dots & \\frac{\\partial F}{\\partial s_{R1}} \\\\\n",
    "\\frac{\\partial F}{\\partial s_{12}} & \\frac{\\partial F}{\\partial s_{22}} & \\dots & \\frac{\\partial F}{\\partial s_{R2}} \\\\\n",
    "\\dots & \\dots & \\dots & \\dots\\\\\n",
    "\\frac{\\partial F}{\\partial s_{1M}} & \\frac{\\partial F}{\\partial s_{2M}} & \\dots & \\frac{\\partial F}{\\partial s_{RM}}\n",
    "\\end{pmatrix}\n",
    "\\end{equation}\n",
    "\n",
    "where each element is a matrix and has a dimension of $F$, i.e., $N \\times M $ when we expand by numerator's indices.\n",
    "\n",
    "\\begin{equation}\n",
    "\\frac{dF}{ds_{ij}} = \n",
    "\\begin{pmatrix}\n",
    "\\frac{\\partial f_{11}}{\\partial s_{ij}} & \\frac{\\partial f_{12}}{\\partial s_{ij}} & \\dots & \\frac{\\partial f_{1M}}{\\partial s_{ij}} \\\\\n",
    "\\frac{\\partial f_{21}}{\\partial s_{ij}} & \\frac{\\partial f_{22}}{\\partial s_{ij}} & \\dots & \\frac{\\partial f_{2M}}{\\partial s_{ij}} \\\\\n",
    "\\dots & \\dots & \\dots & \\dots\\\\\n",
    "\\frac{\\partial f_{N1}}{\\partial s_{ij}} & \\frac{\\partial f_{N2}}{\\partial s_{ij}} & \\dots & \\frac{\\partial f_{NM}}{\\partial s_{ij}}\n",
    "\\end{pmatrix}\n",
    "= \\begin{pmatrix}\n",
    "a_{1i}\\delta_{1j} & a_{1i}\\delta_{2j} & \\dots & a_{1i}\\delta_{Mj} \\\\\n",
    "a_{2i}\\delta_{1j} & a_{2i}\\delta_{2j} & \\dots & a_{2i}\\delta_{Mj} \\\\\n",
    "\\dots & \\dots & \\dots & \\dots\\\\\n",
    "a_{Ni}\\delta_{1j} & a_{Ni}\\delta_{2j} & \\dots & a_{Ni}\\delta_{Mj} \\\\\n",
    "\\end{pmatrix}\n",
    "\\end{equation}\n",
    "\n",
    "where we used\n",
    "$$\n",
    "f_{ml} = \\sum_{k=1}^R a_{mk}s_{kl}, \\hspace{1cm}  \\frac{\\partial f_{ml}}{\\partial s_{ij}} = a_{mi}\\delta_{lj}\n",
    "$$\n",
    "\n",
    "\\begin{equation}\n",
    "\\frac{\\partial F}{\\partial S} = \n",
    "\\begin{pmatrix}\n",
    "\\begin{array}{c@{}c@{}c}\n",
    " \\left[\\begin{array}{}\n",
    "         a_{11} & 0 & \\dots & 0 \\\\ \n",
    "         a_{21} & 0 & \\dots & 0 \\\\ \n",
    "         \\dots & \\dots & \\dots &\\dots \\\\ \n",
    "         a_{N1} & 0 & \\dots & 0 \\\\\n",
    "       \\end{array}\\right]    \n",
    "&  \\left[\\begin{array}{}\n",
    "         a_{12} & 0 & \\dots & 0 \\\\ \n",
    "         a_{22} & 0 & \\dots & 0 \\\\ \n",
    "         \\dots & \\dots & \\dots & \\dots \\\\ \n",
    "         a_{N2} & 0 & \\dots & 0 \\\\\n",
    "       \\end{array}\\right] \n",
    "& \\dots\n",
    "&  \\left[\\begin{array}{}\n",
    "         a_{1R} & 0 & \\dots & 0 \\\\ \n",
    "         a_{2R} & 0 & \\dots & 0 \\\\ \n",
    "         \\dots & \\dots & \\dots & \\dots \\\\ \n",
    "         a_{NR} & 0 & \\dots & 0\\\\\n",
    "       \\end{array}\\right] \\\\ \n",
    "\\left[\\begin{array}{}\n",
    "         0 & a_{11} & \\dots & 0 \\\\ \n",
    "         0 & a_{21} & \\dots & 0 \\\\ \n",
    "         \\dots & \\dots & \\dots & \\dots \\\\ \n",
    "         0 & a_{N1} & \\dots & 0 \\\\\n",
    "       \\end{array}\\right]   \n",
    "& \\left[\\begin{array}{}\n",
    "         0 & a_{12} & \\dots & 0 \\\\ \n",
    "         0 & a_{22} & \\dots & 0 \\\\ \n",
    "         \\dots & \\dots & \\dots & \\dots \\\\ \n",
    "         0 & a_{N2} & \\dots & 0 \\\\\n",
    "       \\end{array}\\right]\n",
    "& \\dots\n",
    "& \\left[\\begin{array}{}\n",
    "         0 & a_{1R} & \\dots & 0 \\\\ \n",
    "         0 & a_{2R} & \\dots & 0 \\\\ \n",
    "         \\dots & \\dots & \\dots & \\dots \\\\ \n",
    "         0 & a_{NR} & \\dots & 0 \\\\\n",
    "       \\end{array}\\right]   \\\\ \n",
    "\\dots & \\dots & \\dots & \\dots\\\\\n",
    "\\left[\\begin{array}{}\n",
    "         0 & 0 & \\dots & a_{11} \\\\ \n",
    "         0 & 0 & \\dots & a_{21} \\\\ \n",
    "         \\dots & \\dots & \\dots & \\dots \\\\ \n",
    "         0 & 0 & \\dots & a_{N1} \\\\\n",
    "       \\end{array}\\right]    \n",
    "& \\left[\\begin{array}{}\n",
    "         0 & 0 & \\dots & a_{12} \\\\ \n",
    "         0 & 0 & \\dots & a_{22} \\\\ \n",
    "         \\dots & \\dots & \\dots & \\dots \\\\ \n",
    "         0 & 0 & \\dots & a_{N2} \\\\\n",
    "       \\end{array}\\right]    \n",
    "& \\dots \n",
    "& \n",
    "\\left[\\begin{array}{}\n",
    "         0 & 0 & \\dots & a_{1R} \\\\ \n",
    "         0 & 0 & \\dots & a_{2R} \\\\ \n",
    "         \\dots & \\dots & \\dots & \\dots \\\\ \n",
    "         0 & 0 & \\dots & a_{NR} \\\\\n",
    "       \\end{array}\\right]\\end{array}\n",
    "\\end{pmatrix}\n",
    "\\end{equation}"
   ]
  },
  {
   "cell_type": "markdown",
   "metadata": {
    "collapsed": true
   },
   "source": [
    "Now it is easy do get desired gradients:\n",
    "$$\n",
    "\\frac{dJ}{dS} = ?\n",
    "$$ "
   ]
  },
  {
   "cell_type": "markdown",
   "metadata": {
    "collapsed": true
   },
   "source": [
    "As the dimensions of $\\frac{\\partial F}{\\partial S}$ ($NM\\times RM$) and $\\frac{\\partial J}{\\partial F}$ ($M\\times N$) do not agree, the chain rule fails in this case. (see also [**Wikipedia**](https://en.wikipedia.org/wiki/Matrix_calculus) $\"\\textit{ [The chain rule applies in some of the cases, but unfortunately does not apply in matrix-by-scalar derivatives or scalar-by-matrix derivatives (in the latter case, mostly involving the trace operator applied to matrices). ]}\"$, also $\"\\textit{[...exact equivalents of the scalar product rule and chain rule do not exist when applied to matrix-valued functions of matrices.]}\"$ )\n",
    "\n",
    "Please, can you clarify as how to overcome this issue? Thanks in advance!"
   ]
  },
  {
   "cell_type": "code",
   "execution_count": null,
   "metadata": {
    "collapsed": true
   },
   "outputs": [],
   "source": []
  }
 ],
 "metadata": {
  "kernelspec": {
   "display_name": "Python 3",
   "language": "python",
   "name": "python3"
  },
  "language_info": {
   "codemirror_mode": {
    "name": "ipython",
    "version": 3
   },
   "file_extension": ".py",
   "mimetype": "text/x-python",
   "name": "python",
   "nbconvert_exporter": "python",
   "pygments_lexer": "ipython3",
   "version": "3.6.0"
  }
 },
 "nbformat": 4,
 "nbformat_minor": 1
}
